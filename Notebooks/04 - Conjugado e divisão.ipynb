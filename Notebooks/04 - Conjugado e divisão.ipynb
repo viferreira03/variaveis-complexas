{
 "cells": [
  {
   "cell_type": "markdown",
   "metadata": {},
   "source": [
    ",# **Conjugado e divisão**"
   ]
  },
  {
   "cell_type": "markdown",
   "metadata": {},
   "source": [
    "# Conjugado\n",
    "\n",
    "O conjugado de um número complexo $z$ é denotado $\\bar{z}$ ou $z^*$, é o número complexo obtido ao trocar o sinal da **parte imaginária** de $z$.\n",
    "\n",
    "Se $z=a+jb$ então $\\bar{z}=a-jb$. \n"
   ]
  },
  {
   "cell_type": "markdown",
   "metadata": {},
   "source": [
    "Obs: o conjugado do conjugado é próprio número."
   ]
  },
  {
   "cell_type": "markdown",
   "metadata": {},
   "source": [
    "**Exemplos:**\n",
    "$$\n",
    "\\begin{align}\n",
    "    z &= 2+j3 \\Rightarrow \\bar{z}= 2-j3\\\\\n",
    "    x &= -1-j8 \\Rightarrow \\bar{x}=-1+j8\n",
    "\\end{align}\n",
    "$$"
   ]
  },
  {
   "cell_type": "markdown",
   "metadata": {},
   "source": [
    "## Propriedades:\n",
    "\n",
    "1. $z+\\bar{z} = 2\\Re\\{z\\}$\n",
    "2. $z-\\bar{z} = j2\\Im\\{z\\}$\n",
    "3. Se $z=\\bar{z}$ então $z \\in \\mathbb{R}$\n",
    "4. $\\overline{z_1+z_2} = \\bar{z}_1+\\bar{z}_2$\n",
    "5. $\\overline{z_1\\cdot z_2} = \\bar{z}_1\\cdot\\bar{z}_2$\n"
   ]
  },
  {
   "cell_type": "markdown",
   "metadata": {},
   "source": [
    "## Divisão\n",
    "\n",
    "Considere $z_1= a+jb$ e $z_2=c+jd$.\n",
    "\n",
    "Para dividir dois números complexos, procedemos da seguinte forma:"
   ]
  },
  {
   "cell_type": "markdown",
   "metadata": {},
   "source": [
    "$$\n",
    "\\begin{align}\n",
    "    \\frac{z_1}{z_2} &= \\frac{z_1}{z_2}\\cdot \\frac{\\bar{z}_2}{\\bar{z}_2}\\\\\n",
    "    &= \\frac{a+jb}{c+jd}\\cdot \\frac{c-jd}{c-jd}\\\\\n",
    "    &= \\frac{(ac+bd)+j(-ad+bc)}{c^2+d^2}\\\\\n",
    "    &= \\frac{ac+bd}{c^2+d^2}+j\\,\\frac{bc-ad}{c^2+d^2}\n",
    "\\end{align}\n",
    "$$\n",
    "\n",
    "Multiplique e divida pelo **conjugado do denominador**. Depois multiplique numerador com numerador e denominador com denominador. "
   ]
  },
  {
   "cell_type": "markdown",
   "metadata": {},
   "source": [
    "**Exemplo:**\n",
    "\n",
    "$$\n",
    "\\begin{align}\n",
    "    \\frac{3+2j}{1-j} &= \\frac{(3+2j)(1+j)}{(1-j)(1+j)}\\\\\n",
    "    &= \\frac{3-2+j(2+3)}{1+1}= \\frac{1}{2}+j\\frac{5}{2}\n",
    "\\end{align}\n",
    "$$"
   ]
  },
  {
   "cell_type": "code",
   "execution_count": 7,
   "metadata": {},
   "outputs": [
    {
     "data": {
      "text/latex": [
       "$\\displaystyle \\frac{3}{5} - \\frac{4 i}{5}$"
      ],
      "text/plain": [
       "3/5 - 4*I/5"
      ]
     },
     "execution_count": 7,
     "metadata": {},
     "output_type": "execute_result"
    }
   ],
   "source": [
    "import sympy as sp\n",
    "j = sp.I\n",
    "sp.simplify((1-3*j)/(3-j))"
   ]
  },
  {
   "cell_type": "markdown",
   "metadata": {},
   "source": [
    "<p align=\"center\">\n",
    "<img src=\"ex19-27.svg\" width=\"80%\">\n",
    "</p>"
   ]
  },
  {
   "cell_type": "markdown",
   "metadata": {},
   "source": [
    "<p align=\"center\">\n",
    "<img src=\"ex28-44.svg\" width=\"80%\">\n",
    "</p>"
   ]
  }
 ],
 "metadata": {
  "kernelspec": {
   "display_name": "Python 3",
   "language": "python",
   "name": "python3"
  },
  "language_info": {
   "codemirror_mode": {
    "name": "ipython",
    "version": 3
   },
   "file_extension": ".py",
   "mimetype": "text/x-python",
   "name": "python",
   "nbconvert_exporter": "python",
   "pygments_lexer": "ipython3",
   "version": "3.11.1"
  },
  "vscode": {
   "interpreter": {
    "hash": "f43b9f0468558e883c45727ce3dc698e7795bc0630df88d4bf17eef171fcc3ac"
   }
  }
 },
 "nbformat": 4,
 "nbformat_minor": 4
}
